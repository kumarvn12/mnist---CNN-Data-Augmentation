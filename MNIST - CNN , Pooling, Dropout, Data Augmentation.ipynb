{
 "cells": [
  {
   "cell_type": "markdown",
   "metadata": {
    "colab_type": "text",
    "id": "vlgfrYr1hu5R"
   },
   "source": [
    "\n",
    "# Multi Layer Perceptron\n"
   ]
  },
  {
   "cell_type": "code",
   "execution_count": 1,
   "metadata": {
    "colab": {},
    "colab_type": "code",
    "id": "O-vGzvRrhs1j"
   },
   "outputs": [],
   "source": [
    "import numpy as np\n"
   ]
  },
  {
   "cell_type": "code",
   "execution_count": 2,
   "metadata": {
    "colab": {},
    "colab_type": "code",
    "id": "aA7w6V7_Xlld"
   },
   "outputs": [],
   "source": [
    "# set seed for reproducibility\n",
    "seed_val = 9000\n",
    "np.random.seed(seed_val)"
   ]
  },
  {
   "cell_type": "code",
   "execution_count": 3,
   "metadata": {
    "colab": {
     "base_uri": "https://localhost:8080/",
     "height": 34
    },
    "colab_type": "code",
    "id": "4htRAMpvzwpJ",
    "outputId": "63b3f7fd-37bf-4751-8195-2f02b9e17813"
   },
   "outputs": [
    {
     "name": "stderr",
     "output_type": "stream",
     "text": [
      "Using TensorFlow backend.\n"
     ]
    }
   ],
   "source": [
    "from keras.datasets import mnist"
   ]
  },
  {
   "cell_type": "code",
   "execution_count": 4,
   "metadata": {
    "colab": {
     "base_uri": "https://localhost:8080/",
     "height": 51
    },
    "colab_type": "code",
    "id": "kj4A1dlbVWBI",
    "outputId": "77e2e336-54a2-4725-9dca-68f40456e2b7"
   },
   "outputs": [],
   "source": [
    "(X_train, y_train), (X_test, y_test) = mnist.load_data()"
   ]
  },
  {
   "cell_type": "code",
   "execution_count": 5,
   "metadata": {
    "colab": {
     "base_uri": "https://localhost:8080/",
     "height": 102
    },
    "colab_type": "code",
    "id": "383HE9kGVZwB",
    "outputId": "26b9db3a-4253-4301-c4dc-439d3f27a62b"
   },
   "outputs": [
    {
     "name": "stdout",
     "output_type": "stream",
     "text": [
      "Size of the training_set:  (60000, 28, 28)\n",
      "Size of the test_set:  (10000, 28, 28)\n",
      "Shape of each image:  (28, 28)\n",
      "Total number of classes:  10\n",
      "Unique class labels:  [0 1 2 3 4 5 6 7 8 9]\n"
     ]
    }
   ],
   "source": [
    "print('Size of the training_set: ', X_train.shape)\n",
    "print('Size of the test_set: ', X_test.shape)\n",
    "print('Shape of each image: ', X_train[0].shape)\n",
    "print('Total number of classes: ', len(np.unique(y_train)))\n",
    "print('Unique class labels: ', np.unique(y_train))"
   ]
  },
  {
   "cell_type": "code",
   "execution_count": 6,
   "metadata": {
    "colab": {
     "base_uri": "https://localhost:8080/",
     "height": 349
    },
    "colab_type": "code",
    "id": "IaQgGn0eVZzs",
    "outputId": "3c7ee66c-6c95-4cc8-b2d0-2493c242bace"
   },
   "outputs": [],
   "source": [
    "import matplotlib.pyplot as plt\n",
    "# Plot of 9 random images\n",
    "for i in range(0, 9):\n",
    "    plt.subplot(331+i) # plot of 3 rows and 3 columns\n",
    "    plt.axis('off') # turn off axis\n",
    "    plt.imshow(X_train[i], cmap='OrRd') # gray scale"
   ]
  },
  {
   "cell_type": "code",
   "execution_count": 7,
   "metadata": {
    "colab": {
     "base_uri": "https://localhost:8080/",
     "height": 51
    },
    "colab_type": "code",
    "id": "u84baf1yoruv",
    "outputId": "f988d321-1e62-4aef-e872-c344c6db491b"
   },
   "outputs": [
    {
     "name": "stdout",
     "output_type": "stream",
     "text": [
      "Maximum pixel value in the training_set:  255\n",
      "Minimum pixel value in the training_set:  0\n"
     ]
    }
   ],
   "source": [
    "print('Maximum pixel value in the training_set: ', np.max(X_train))\n",
    "print('Minimum pixel value in the training_set: ', np.min(X_train))"
   ]
  },
  {
   "cell_type": "code",
   "execution_count": 8,
   "metadata": {
    "colab": {
     "base_uri": "https://localhost:8080/",
     "height": 119
    },
    "colab_type": "code",
    "id": "TBmhrLEEhO80",
    "outputId": "3c746b09-b5c8-427e-d4d3-fd599312a379"
   },
   "outputs": [
    {
     "name": "stdout",
     "output_type": "stream",
     "text": [
      "Requirement already satisfied: keras in /home/varunkn/anaconda3/lib/python3.7/site-packages (2.2.4)\n",
      "Requirement already satisfied: scipy>=0.14 in /home/varunkn/anaconda3/lib/python3.7/site-packages (from keras) (1.2.1)\n",
      "Requirement already satisfied: six>=1.9.0 in /home/varunkn/anaconda3/lib/python3.7/site-packages (from keras) (1.12.0)\n",
      "Requirement already satisfied: h5py in /home/varunkn/anaconda3/lib/python3.7/site-packages (from keras) (2.9.0)\n",
      "Requirement already satisfied: keras-applications>=1.0.6 in /home/varunkn/anaconda3/lib/python3.7/site-packages (from keras) (1.0.7)\n",
      "Requirement already satisfied: keras-preprocessing>=1.0.5 in /home/varunkn/anaconda3/lib/python3.7/site-packages (from keras) (1.0.9)\n",
      "Requirement already satisfied: pyyaml in /home/varunkn/anaconda3/lib/python3.7/site-packages (from keras) (5.1)\n",
      "Requirement already satisfied: numpy>=1.9.1 in /home/varunkn/anaconda3/lib/python3.7/site-packages (from keras) (1.16.2)\n"
     ]
    }
   ],
   "source": [
    "!pip install keras"
   ]
  },
  {
   "cell_type": "code",
   "execution_count": 9,
   "metadata": {
    "colab": {},
    "colab_type": "code",
    "id": "62APeEgHXuxd"
   },
   "outputs": [
    {
     "name": "stdout",
     "output_type": "stream",
     "text": [
      "WARNING:tensorflow:From /home/varunkn/anaconda3/lib/python3.7/site-packages/tensorflow/python/framework/op_def_library.py:263: colocate_with (from tensorflow.python.framework.ops) is deprecated and will be removed in a future version.\n",
      "Instructions for updating:\n",
      "Colocations handled automatically by placer.\n"
     ]
    }
   ],
   "source": [
    "# Number of epochs\n",
    "epochs = 15\n",
    "\n",
    "# Batchsize\n",
    "batch_size = 128\n",
    "\n",
    "# Optimizer for the generator\n",
    "from keras.optimizers import Adam\n",
    "optimizer = Adam(lr=0.0001)\n",
    "\n",
    "# Shape of the input image\n",
    "input_shape = (28,28,1)"
   ]
  },
  {
   "cell_type": "code",
   "execution_count": 10,
   "metadata": {
    "colab": {},
    "colab_type": "code",
    "id": "aRabej2hzT_C"
   },
   "outputs": [],
   "source": [
    "from keras.models import Sequential\n",
    "model = Sequential()"
   ]
  },
  {
   "cell_type": "code",
   "execution_count": 11,
   "metadata": {
    "colab": {},
    "colab_type": "code",
    "id": "yXgvv7_VzUFI"
   },
   "outputs": [],
   "source": [
    "from keras.layers import Dense"
   ]
  },
  {
   "cell_type": "code",
   "execution_count": 12,
   "metadata": {
    "colab": {},
    "colab_type": "code",
    "id": "_qEhdg-dzULQ"
   },
   "outputs": [],
   "source": [
    "model.add(Dense(300, input_shape=(784,), activation = 'relu'))"
   ]
  },
  {
   "cell_type": "code",
   "execution_count": 13,
   "metadata": {
    "colab": {},
    "colab_type": "code",
    "id": "dXQ61rtdzUJA"
   },
   "outputs": [],
   "source": [
    "model.add(Dense(300,  activation='relu'))"
   ]
  },
  {
   "cell_type": "code",
   "execution_count": 14,
   "metadata": {
    "colab": {},
    "colab_type": "code",
    "id": "n_oEzLiEzUC5"
   },
   "outputs": [],
   "source": [
    "model.add(Dense(10,  activation='softmax'))"
   ]
  },
  {
   "cell_type": "code",
   "execution_count": 15,
   "metadata": {
    "colab": {},
    "colab_type": "code",
    "id": "G-SC1hIXzeqC"
   },
   "outputs": [],
   "source": [
    "model.compile(loss = 'sparse_categorical_crossentropy', optimizer=optimizer , metrics = ['accuracy'])"
   ]
  },
  {
   "cell_type": "code",
   "execution_count": 16,
   "metadata": {
    "colab": {
     "base_uri": "https://localhost:8080/",
     "height": 238
    },
    "colab_type": "code",
    "id": "0I8FTXg1zg8n",
    "outputId": "4747d853-519a-45d7-8c4b-ca04f5b44b1b"
   },
   "outputs": [
    {
     "name": "stdout",
     "output_type": "stream",
     "text": [
      "_________________________________________________________________\n",
      "Layer (type)                 Output Shape              Param #   \n",
      "=================================================================\n",
      "dense_1 (Dense)              (None, 300)               235500    \n",
      "_________________________________________________________________\n",
      "dense_2 (Dense)              (None, 300)               90300     \n",
      "_________________________________________________________________\n",
      "dense_3 (Dense)              (None, 10)                3010      \n",
      "=================================================================\n",
      "Total params: 328,810\n",
      "Trainable params: 328,810\n",
      "Non-trainable params: 0\n",
      "_________________________________________________________________\n"
     ]
    }
   ],
   "source": [
    "model.summary()"
   ]
  },
  {
   "cell_type": "code",
   "execution_count": 17,
   "metadata": {
    "colab": {
     "base_uri": "https://localhost:8080/",
     "height": 68
    },
    "colab_type": "code",
    "id": "a8uovO1E3LbQ",
    "outputId": "4ad23f26-5322-4dcd-94e4-c5704d7a59d6"
   },
   "outputs": [
    {
     "name": "stdout",
     "output_type": "stream",
     "text": [
      "Training Examples 55000\n",
      "Validation Examples 5000\n",
      "Test Examples 10000\n"
     ]
    }
   ],
   "source": [
    "from sklearn.model_selection import train_test_split\n",
    "\n",
    "X_train, X_val, y_train, y_val = train_test_split(X_train, y_train, stratify = y_train, test_size = 0.08333, random_state=42)\n",
    "\n",
    "X_train = X_train.reshape(-1, 784)\n",
    "X_val = X_val.reshape(-1, 784)\n",
    "X_test = X_test.reshape(-1, 784)\n",
    "\n",
    "print('Training Examples', X_train.shape[0])\n",
    "print('Validation Examples', X_val.shape[0])\n",
    "print('Test Examples', X_test.shape[0])"
   ]
  },
  {
   "cell_type": "code",
   "execution_count": 18,
   "metadata": {
    "colab": {
     "base_uri": "https://localhost:8080/",
     "height": 714
    },
    "colab_type": "code",
    "id": "f1w9C3tH3mMw",
    "outputId": "2889253d-eaac-4f00-8581-48afae97f2b3"
   },
   "outputs": [
    {
     "name": "stdout",
     "output_type": "stream",
     "text": [
      "WARNING:tensorflow:From /home/varunkn/anaconda3/lib/python3.7/site-packages/tensorflow/python/ops/math_ops.py:3066: to_int32 (from tensorflow.python.ops.math_ops) is deprecated and will be removed in a future version.\n",
      "Instructions for updating:\n",
      "Use tf.cast instead.\n",
      "Train on 55000 samples, validate on 5000 samples\n",
      "Epoch 1/15\n",
      "55000/55000 [==============================] - 9s 170us/step - loss: 7.4944 - acc: 0.5261 - val_loss: 6.7615 - val_acc: 0.5732\n",
      "Epoch 2/15\n",
      "55000/55000 [==============================] - 8s 143us/step - loss: 6.0105 - acc: 0.6204 - val_loss: 5.3929 - val_acc: 0.6588\n",
      "Epoch 3/15\n",
      "55000/55000 [==============================] - 10s 173us/step - loss: 5.2641 - acc: 0.6681 - val_loss: 5.2742 - val_acc: 0.6674\n",
      "Epoch 4/15\n",
      "55000/55000 [==============================] - 9s 155us/step - loss: 5.1652 - acc: 0.6757 - val_loss: 5.2635 - val_acc: 0.6688\n",
      "Epoch 5/15\n",
      "55000/55000 [==============================] - 8s 146us/step - loss: 5.1256 - acc: 0.6787 - val_loss: 5.2042 - val_acc: 0.6726\n",
      "Epoch 6/15\n",
      "55000/55000 [==============================] - 8s 141us/step - loss: 3.9937 - acc: 0.7457 - val_loss: 3.8242 - val_acc: 0.7554\n",
      "Epoch 7/15\n",
      "55000/55000 [==============================] - 5s 95us/step - loss: 3.6771 - acc: 0.7666 - val_loss: 3.7546 - val_acc: 0.7604\n",
      "Epoch 8/15\n",
      "55000/55000 [==============================] - 4s 78us/step - loss: 3.5927 - acc: 0.7722 - val_loss: 3.7437 - val_acc: 0.7620\n",
      "Epoch 9/15\n",
      "55000/55000 [==============================] - 7s 132us/step - loss: 3.5459 - acc: 0.7759 - val_loss: 3.6732 - val_acc: 0.7650\n",
      "Epoch 10/15\n",
      "55000/55000 [==============================] - 5s 93us/step - loss: 3.5110 - acc: 0.7784 - val_loss: 3.6113 - val_acc: 0.7696\n",
      "Epoch 11/15\n",
      "55000/55000 [==============================] - 6s 102us/step - loss: 3.4904 - acc: 0.7801 - val_loss: 3.5807 - val_acc: 0.7724\n",
      "Epoch 12/15\n",
      "55000/55000 [==============================] - 6s 108us/step - loss: 2.8216 - acc: 0.8198 - val_loss: 2.2509 - val_acc: 0.8526\n",
      "Epoch 13/15\n",
      "55000/55000 [==============================] - 5s 96us/step - loss: 2.0290 - acc: 0.8679 - val_loss: 2.0740 - val_acc: 0.8642\n",
      "Epoch 14/15\n",
      "55000/55000 [==============================] - 4s 80us/step - loss: 1.9465 - acc: 0.8742 - val_loss: 2.0361 - val_acc: 0.8670\n",
      "Epoch 15/15\n",
      "55000/55000 [==============================] - 6s 104us/step - loss: 1.8969 - acc: 0.8788 - val_loss: 2.0671 - val_acc: 0.8652\n"
     ]
    }
   ],
   "source": [
    "history = model.fit(X_train, y_train, epochs = epochs, batch_size=batch_size, validation_data=(X_val, y_val)) "
   ]
  },
  {
   "cell_type": "code",
   "execution_count": 19,
   "metadata": {
    "colab": {
     "base_uri": "https://localhost:8080/",
     "height": 68
    },
    "colab_type": "code",
    "id": "cDUsdS0K4Q5x",
    "outputId": "989daffe-a089-4ba8-fb78-647249c10d8f"
   },
   "outputs": [
    {
     "name": "stdout",
     "output_type": "stream",
     "text": [
      "10000/10000 [==============================] - 0s 41us/step\n",
      "Test loss: 1.9902316490173326\n",
      "Accuracy: 0.8698\n"
     ]
    }
   ],
   "source": [
    "loss,acc = model.evaluate(X_test, y_test)\n",
    "print('Test loss:', loss)\n",
    "print('Accuracy:', acc)"
   ]
  },
  {
   "cell_type": "code",
   "execution_count": 20,
   "metadata": {
    "colab": {
     "base_uri": "https://localhost:8080/",
     "height": 681
    },
    "colab_type": "code",
    "id": "-1MQcvrH4eRy",
    "outputId": "ddc6619a-0132-41e4-d0ce-82f87c9cd8d2"
   },
   "outputs": [
    {
     "data": {
      "image/png": "[encoded data removed]",
      "text/plain": [
       "<Figure size 648x360 with 1 Axes>"
      ]
     },
     "metadata": {
      "needs_background": "light"
     },
     "output_type": "display_data"
    },
    {
     "data": {
      "image/png": "[encoded data removed]",
      "text/plain": [
       "<Figure size 648x360 with 1 Axes>"
      ]
     },
     "metadata": {
      "needs_background": "light"
     },
     "output_type": "display_data"
    }
   ],
   "source": [
    "import matplotlib.pyplot as plt\n",
    "\n",
    "def loss_plot(history):\n",
    "    train_acc = history.history['acc']\n",
    "    val_acc = history.history['val_acc']\n",
    "\n",
    "    plt.figure(figsize=(9,5))\n",
    "    plt.plot(np.arange(1,len(train_acc)+1),train_acc,  marker = 'D', label = 'Training Accuracy')\n",
    "    plt.plot(np.arange(1,len(train_acc)+1),val_acc,  marker = 'o', label = 'Validation Accuracy')\n",
    "    plt.xlabel('Epochs')\n",
    "    plt.ylabel('Accuracy')\n",
    "    plt.title('Train/Validation Accuracy')\n",
    "    plt.legend()\n",
    "    plt.margins(0.02)\n",
    "    plt.show()\n",
    "\n",
    "    train_loss = history.history['loss']\n",
    "    val_loss = history.history['val_loss']\n",
    "\n",
    "    plt.figure(figsize=(9,5))\n",
    "    plt.plot(np.arange(1,len(train_acc)+1),train_loss, marker = 'D', label = 'Training Loss')\n",
    "    plt.plot(np.arange(1,len(train_acc)+1),val_loss, marker = 'o', label = 'Validation Loss')\n",
    "    plt.xlabel('Epochs')\n",
    "    plt.ylabel('Loss')\n",
    "    plt.title('Train/Validation Loss')\n",
    "    plt.legend()\n",
    "    plt.margins(0.02)\n",
    "    plt.show()\n",
    "    \n",
    "loss_plot(history)"
   ]
  },
  {
   "cell_type": "code",
   "execution_count": null,
   "metadata": {
    "colab": {},
    "colab_type": "code",
    "id": "hV1yskYHhjpm"
   },
   "outputs": [],
   "source": []
  },
  {
   "cell_type": "markdown",
   "metadata": {
    "colab_type": "text",
    "id": "zxX3wVhthlUn"
   },
   "source": [
    "# Convolution\n"
   ]
  },
  {
   "cell_type": "code",
   "execution_count": 21,
   "metadata": {
    "colab": {
     "base_uri": "https://localhost:8080/",
     "height": 170
    },
    "colab_type": "code",
    "id": "HgpHRJkg3NJe",
    "outputId": "275d094b-a2da-44e8-905f-80a4677bc904"
   },
   "outputs": [
    {
     "name": "stdout",
     "output_type": "stream",
     "text": [
      "[-1  1  0] * [0 1 0] = 1\n",
      "[-1  1  0] * [1 0 1] = -1\n",
      "[-1  1  0] * [0 1 0] = 1\n",
      "[-1  1  0] * [1 0 1] = -1\n",
      "[-1  1  0] * [0 1 0] = 1\n",
      "[-1  1  0] * [1 0 1] = -1\n",
      "[-1  1  0] * [0 1 0] = 1\n",
      "[-1  1  0] * [1 0 1] = -1\n",
      "Feature Map : [ 1 -1  1 -1  1 -1  1 -1]\n"
     ]
    }
   ],
   "source": [
    "array = np.array([0, 1, 0, 1, 0, 1, 0, 1, 0, 1])\n",
    "kernel = np.array([-1, 1, 0])\n",
    "\n",
    "# empty feature map\n",
    "conv_result = np.zeros(array.shape[0] - kernel.shape[0] +1).astype(int)\n",
    "\n",
    "for i in range(array.shape[0] - kernel.shape[0] +1):\n",
    "    # convolving\n",
    "    conv_result[i] = (kernel * array[i:i+3]).sum()\n",
    "    print(kernel, '*', array[i:i+3], '=', conv_result[i])\n",
    "    \n",
    "print('Feature Map :', conv_result)"
   ]
  },
  {
   "cell_type": "code",
   "execution_count": 22,
   "metadata": {
    "colab": {},
    "colab_type": "code",
    "id": "M8HXH3q88W6n"
   },
   "outputs": [],
   "source": [
    "from keras.layers import Conv2D"
   ]
  },
  {
   "cell_type": "code",
   "execution_count": 23,
   "metadata": {
    "colab": {
     "base_uri": "https://localhost:8080/",
     "height": 68
    },
    "colab_type": "code",
    "id": "2VUDY4DZ-FnF",
    "outputId": "fe420faa-d130-4c03-9b30-b22d0760ba29"
   },
   "outputs": [
    {
     "name": "stdout",
     "output_type": "stream",
     "text": [
      "Train data shape: (55000, 28, 28, 1)\n",
      "Val data shape: (5000, 28, 28, 1)\n",
      "Test data shape: (10000, 28, 28, 1)\n"
     ]
    }
   ],
   "source": [
    "X_train = X_train.reshape(-1,28,28,1)\n",
    "X_val = X_val.reshape(-1,28,28,1)\n",
    "X_test = X_test.reshape(-1,28,28,1)\n",
    "\n",
    "print('Train data shape:', X_train.shape)\n",
    "print('Val data shape:', X_val.shape)\n",
    "print('Test data shape:', X_test.shape)"
   ]
  },
  {
   "cell_type": "code",
   "execution_count": 24,
   "metadata": {
    "colab": {},
    "colab_type": "code",
    "id": "zOn0kJr28mZr"
   },
   "outputs": [],
   "source": [
    "model = Sequential()"
   ]
  },
  {
   "cell_type": "code",
   "execution_count": 25,
   "metadata": {
    "colab": {},
    "colab_type": "code",
    "id": "SWCzx9vC8ox3"
   },
   "outputs": [],
   "source": [
    "model.add(Conv2D(32, kernel_size=(3,3), input_shape=input_shape, activation = 'relu'))"
   ]
  },
  {
   "cell_type": "code",
   "execution_count": 26,
   "metadata": {
    "colab": {},
    "colab_type": "code",
    "id": "iy9TYs1P8sZ0"
   },
   "outputs": [],
   "source": [
    "from keras.layers import Flatten\n",
    "model.add(Flatten())"
   ]
  },
  {
   "cell_type": "code",
   "execution_count": 27,
   "metadata": {
    "colab": {},
    "colab_type": "code",
    "id": "Xo2YGv0G8shL"
   },
   "outputs": [],
   "source": [
    "model.add(Dense(128, activation = 'relu'))"
   ]
  },
  {
   "cell_type": "code",
   "execution_count": 28,
   "metadata": {
    "colab": {},
    "colab_type": "code",
    "id": "uGVjoCKF9NAr"
   },
   "outputs": [],
   "source": [
    "model.add(Dense(10, activation = 'softmax'))"
   ]
  },
  {
   "cell_type": "code",
   "execution_count": 29,
   "metadata": {
    "colab": {
     "base_uri": "https://localhost:8080/",
     "height": 272
    },
    "colab_type": "code",
    "id": "80dw1wPS9PJX",
    "outputId": "8d877b7f-d41c-4924-f190-150740b586cb"
   },
   "outputs": [
    {
     "name": "stdout",
     "output_type": "stream",
     "text": [
      "_________________________________________________________________\n",
      "Layer (type)                 Output Shape              Param #   \n",
      "=================================================================\n",
      "conv2d_1 (Conv2D)            (None, 26, 26, 32)        320       \n",
      "_________________________________________________________________\n",
      "flatten_1 (Flatten)          (None, 21632)             0         \n",
      "_________________________________________________________________\n",
      "dense_4 (Dense)              (None, 128)               2769024   \n",
      "_________________________________________________________________\n",
      "dense_5 (Dense)              (None, 10)                1290      \n",
      "=================================================================\n",
      "Total params: 2,770,634\n",
      "Trainable params: 2,770,634\n",
      "Non-trainable params: 0\n",
      "_________________________________________________________________\n"
     ]
    }
   ],
   "source": [
    "model.compile(loss = 'sparse_categorical_crossentropy', optimizer= optimizer, metrics = ['accuracy'])\n",
    "model.summary()"
   ]
  },
  {
   "cell_type": "code",
   "execution_count": 30,
   "metadata": {
    "colab": {
     "base_uri": "https://localhost:8080/",
     "height": 714
    },
    "colab_type": "code",
    "id": "drBYss2V9RIb",
    "outputId": "28a7bba4-96d8-4098-89e9-a8da1d46b643"
   },
   "outputs": [
    {
     "name": "stdout",
     "output_type": "stream",
     "text": [
      "Train on 55000 samples, validate on 5000 samples\n",
      "Epoch 1/15\n",
      "55000/55000 [==============================] - 139s 3ms/step - loss: 13.0529 - acc: 0.1898 - val_loss: 13.0417 - val_acc: 0.1906\n",
      "Epoch 2/15\n",
      "55000/55000 [==============================] - 130s 2ms/step - loss: 13.0189 - acc: 0.1922 - val_loss: 13.0170 - val_acc: 0.1924\n",
      "Epoch 3/15\n",
      "55000/55000 [==============================] - 139s 3ms/step - loss: 13.0140 - acc: 0.1925 - val_loss: 13.0776 - val_acc: 0.1884\n",
      "Epoch 4/15\n",
      "55000/55000 [==============================] - 135s 2ms/step - loss: 13.0078 - acc: 0.1929 - val_loss: 13.0159 - val_acc: 0.1924\n",
      "Epoch 5/15\n",
      "55000/55000 [==============================] - 136s 2ms/step - loss: 13.0005 - acc: 0.1934 - val_loss: 13.0363 - val_acc: 0.1912\n",
      "Epoch 6/15\n",
      "55000/55000 [==============================] - 134s 2ms/step - loss: 13.0060 - acc: 0.1930 - val_loss: 13.0090 - val_acc: 0.1926\n",
      "Epoch 7/15\n",
      "55000/55000 [==============================] - 125s 2ms/step - loss: 13.0077 - acc: 0.1929 - val_loss: 13.0143 - val_acc: 0.1924\n",
      "Epoch 8/15\n",
      "55000/55000 [==============================] - 126s 2ms/step - loss: 12.9995 - acc: 0.1934 - val_loss: 13.0109 - val_acc: 0.1926\n",
      "Epoch 9/15\n",
      "55000/55000 [==============================] - 130s 2ms/step - loss: 13.0025 - acc: 0.1932 - val_loss: 13.0105 - val_acc: 0.1928\n",
      "Epoch 10/15\n",
      "55000/55000 [==============================] - 133s 2ms/step - loss: 12.9970 - acc: 0.1936 - val_loss: 13.0138 - val_acc: 0.1926\n",
      "Epoch 11/15\n",
      "55000/55000 [==============================] - 133s 2ms/step - loss: 12.9960 - acc: 0.1937 - val_loss: 13.0037 - val_acc: 0.1932\n",
      "Epoch 12/15\n",
      "55000/55000 [==============================] - 130s 2ms/step - loss: 12.9990 - acc: 0.1935 - val_loss: 13.0300 - val_acc: 0.1916\n",
      "Epoch 13/15\n",
      "55000/55000 [==============================] - 130s 2ms/step - loss: 12.9955 - acc: 0.1937 - val_loss: 13.0041 - val_acc: 0.1932\n",
      "Epoch 14/15\n",
      "55000/55000 [==============================] - 129s 2ms/step - loss: 12.9951 - acc: 0.1937 - val_loss: 12.9976 - val_acc: 0.1936\n",
      "Epoch 15/15\n",
      "55000/55000 [==============================] - 127s 2ms/step - loss: 12.9934 - acc: 0.1938 - val_loss: 13.0034 - val_acc: 0.1932\n"
     ]
    }
   ],
   "source": [
    "history = model.fit(X_train, y_train, epochs = epochs, batch_size=batch_size, validation_data=(X_val, y_val))"
   ]
  },
  {
   "cell_type": "code",
   "execution_count": 31,
   "metadata": {
    "colab": {
     "base_uri": "https://localhost:8080/",
     "height": 68
    },
    "colab_type": "code",
    "id": "zO9DUDDdEbYy",
    "outputId": "967bdb46-c561-4174-9d96-ca03750ac921"
   },
   "outputs": [
    {
     "name": "stdout",
     "output_type": "stream",
     "text": [
      "10000/10000 [==============================] - 8s 753us/step\n",
      "Test loss: 13.037927514648437\n",
      "Accuracy: 0.1911\n"
     ]
    }
   ],
   "source": [
    "loss,acc = model.evaluate(X_test, y_test)\n",
    "print('Test loss:', loss)\n",
    "print('Accuracy:', acc)\n",
    "#increase epochs to improve accuracy\n"
   ]
  },
  {
   "cell_type": "code",
   "execution_count": 32,
   "metadata": {
    "colab": {
     "base_uri": "https://localhost:8080/",
     "height": 681
    },
    "colab_type": "code",
    "id": "f69zV_s9GmVn",
    "outputId": "c8a10da3-7e37-443c-eb14-e0dc2fd0f528"
   },
   "outputs": [
    {
     "data": {
      "image/png": "[encoded data removed]",
      "text/plain": [
       "<Figure size 648x360 with 1 Axes>"
      ]
     },
     "metadata": {
      "needs_background": "light"
     },
     "output_type": "display_data"
    },
    {
     "data": {
      "image/png": "[encoded data removed]",
      "text/plain": [
       "<Figure size 648x360 with 1 Axes>"
      ]
     },
     "metadata": {
      "needs_background": "light"
     },
     "output_type": "display_data"
    }
   ],
   "source": [
    "loss_plot(history)"
   ]
  },
  {
   "cell_type": "code",
   "execution_count": null,
   "metadata": {
    "colab": {},
    "colab_type": "code",
    "id": "E45UqAByiAWx"
   },
   "outputs": [],
   "source": []
  },
  {
   "cell_type": "markdown",
   "metadata": {
    "colab_type": "text",
    "id": "Z4ONmO_7iC7l"
   },
   "source": [
    "# Pooling\n"
   ]
  },
  {
   "cell_type": "code",
   "execution_count": 33,
   "metadata": {
    "colab": {
     "base_uri": "https://localhost:8080/",
     "height": 34
    },
    "colab_type": "code",
    "id": "qLunwvrkyRAx",
    "outputId": "26c024ec-c28b-4127-d79b-b150e0782fd7"
   },
   "outputs": [],
   "source": [
    "#import numpy as np\n",
    "#array = np.array([0, 1, 0, 1, 0, 1, 0, 1, 0, 1])\n",
    "#result = np.zeros(len(array)//2)\n",
    "#for i in range(len(array)//2):\n",
    "#    result[i] = np.max(array[2*i:2*i+2])\n",
    "#result"
   ]
  },
  {
   "cell_type": "code",
   "execution_count": 34,
   "metadata": {
    "colab": {
     "base_uri": "https://localhost:8080/",
     "height": 34
    },
    "colab_type": "code",
    "id": "qTFIc5m30WhB",
    "outputId": "7bb142bd-7fb8-43f8-b5e2-1a5f5eae73c8"
   },
   "outputs": [],
   "source": [
    "#array = np.array([0, 1, 0, 1, 0, 1, 0, 1, 0, 1])\n",
    "#result = np.zeros(len(array)//2)\n",
    "#for i in range(len(array)//2):\n",
    "#    result[i] = np.mean(array[2*i:2*i+2])\n",
    "#result"
   ]
  },
  {
   "cell_type": "code",
   "execution_count": 35,
   "metadata": {
    "colab": {
     "base_uri": "https://localhost:8080/",
     "height": 364
    },
    "colab_type": "code",
    "id": "yzRSnXHTFLm5",
    "outputId": "3beb90ce-3c6d-4a36-d82d-3b2d416b2cac"
   },
   "outputs": [
    {
     "data": {
      "text/plain": [
       "<matplotlib.image.AxesImage at 0x7fba0c348588>"
      ]
     },
     "execution_count": 35,
     "metadata": {},
     "output_type": "execute_result"
    },
    {
     "data": {
      "image/png": "[encoded data removed]",
      "text/plain": [
       "<Figure size 432x288 with 1 Axes>"
      ]
     },
     "metadata": {
      "needs_background": "light"
     },
     "output_type": "display_data"
    }
   ],
   "source": [
    "plt.imshow(X_train[0].reshape(28,28), cmap='YlOrBr')"
   ]
  },
  {
   "cell_type": "code",
   "execution_count": 36,
   "metadata": {
    "colab": {},
    "colab_type": "code",
    "id": "OTeOyMaJFLtc"
   },
   "outputs": [],
   "source": [
    "def square_max_pool(image, pool_size=2):\n",
    "    result = np.zeros((14,14))\n",
    "    for i in range(result.shape[0]):\n",
    "        for j in range(result.shape[1]):\n",
    "            result[i,j] = np.max(image[i*pool_size : i*pool_size+pool_size, j*pool_size : j*pool_size+pool_size])\n",
    "            \n",
    "    return result"
   ]
  },
  {
   "cell_type": "code",
   "execution_count": 37,
   "metadata": {
    "colab": {
     "base_uri": "https://localhost:8080/",
     "height": 364
    },
    "colab_type": "code",
    "id": "baKCoLPgFOMM",
    "outputId": "ce2217a8-cc5c-4586-fa81-e60cc5bdd48b"
   },
   "outputs": [
    {
     "data": {
      "text/plain": [
       "<matplotlib.image.AxesImage at 0x7fba0c2a4710>"
      ]
     },
     "execution_count": 37,
     "metadata": {},
     "output_type": "execute_result"
    },
    {
     "data": {
      "image/png": "[encoded data removed]",
      "text/plain": [
       "<Figure size 432x288 with 1 Axes>"
      ]
     },
     "metadata": {
      "needs_background": "light"
     },
     "output_type": "display_data"
    }
   ],
   "source": [
    "plt.imshow(square_max_pool(X_train[0].reshape(28,28)), cmap='YlOrBr')"
   ]
  },
  {
   "cell_type": "code",
   "execution_count": 38,
   "metadata": {
    "colab": {},
    "colab_type": "code",
    "id": "3Fu9K4ilihnY"
   },
   "outputs": [],
   "source": [
    "from keras.layers import MaxPool2D"
   ]
  },
  {
   "cell_type": "code",
   "execution_count": 39,
   "metadata": {
    "colab": {
     "base_uri": "https://localhost:8080/",
     "height": 306
    },
    "colab_type": "code",
    "id": "mUKgJRCGGtD9",
    "outputId": "c4eca7c4-9aec-428c-b807-30a5525950ca"
   },
   "outputs": [
    {
     "name": "stdout",
     "output_type": "stream",
     "text": [
      "_________________________________________________________________\n",
      "Layer (type)                 Output Shape              Param #   \n",
      "=================================================================\n",
      "conv2d_2 (Conv2D)            (None, 26, 26, 32)        320       \n",
      "_________________________________________________________________\n",
      "max_pooling2d_1 (MaxPooling2 (None, 13, 13, 32)        0         \n",
      "_________________________________________________________________\n",
      "flatten_2 (Flatten)          (None, 5408)              0         \n",
      "_________________________________________________________________\n",
      "dense_6 (Dense)              (None, 128)               692352    \n",
      "_________________________________________________________________\n",
      "dense_7 (Dense)              (None, 10)                1290      \n",
      "=================================================================\n",
      "Total params: 693,962\n",
      "Trainable params: 693,962\n",
      "Non-trainable params: 0\n",
      "_________________________________________________________________\n"
     ]
    }
   ],
   "source": [
    "model = Sequential()\n",
    "model.add(Conv2D(32, kernel_size=(3,3), input_shape=input_shape, activation = 'relu'))\n",
    "model.add(MaxPool2D(2,2))\n",
    "model.add(Flatten())\n",
    "model.add(Dense(128, activation = 'relu'))\n",
    "model.add(Dense(10, activation = 'softmax'))\n",
    "\n",
    "model.compile(loss = 'sparse_categorical_crossentropy', optimizer= optimizer, metrics = ['accuracy'])\n",
    "\n",
    "model.summary()"
   ]
  },
  {
   "cell_type": "code",
   "execution_count": 40,
   "metadata": {
    "colab": {
     "base_uri": "https://localhost:8080/",
     "height": 714
    },
    "colab_type": "code",
    "id": "JCz-wVuFUeVo",
    "outputId": "a5ea2208-0579-4b53-8b30-b3d39d0fa9ff"
   },
   "outputs": [
    {
     "name": "stdout",
     "output_type": "stream",
     "text": [
      "Train on 55000 samples, validate on 5000 samples\n",
      "Epoch 1/15\n",
      "55000/55000 [==============================] - 87s 2ms/step - loss: 7.2719 - acc: 0.5418 - val_loss: 6.9770 - val_acc: 0.5620\n",
      "Epoch 2/15\n",
      "55000/55000 [==============================] - 83s 2ms/step - loss: 6.8615 - acc: 0.5704 - val_loss: 6.8483 - val_acc: 0.5702\n",
      "Epoch 3/15\n",
      "55000/55000 [==============================] - 80s 1ms/step - loss: 4.4442 - acc: 0.7125 - val_loss: 2.1597 - val_acc: 0.8516\n",
      "Epoch 4/15\n",
      "55000/55000 [==============================] - 81s 1ms/step - loss: 2.0043 - acc: 0.8646 - val_loss: 1.9425 - val_acc: 0.8674\n",
      "Epoch 5/15\n",
      "55000/55000 [==============================] - 80s 1ms/step - loss: 1.5936 - acc: 0.8898 - val_loss: 0.3523 - val_acc: 0.9608\n",
      "Epoch 6/15\n",
      "55000/55000 [==============================] - 83s 2ms/step - loss: 0.2008 - acc: 0.9758 - val_loss: 0.2097 - val_acc: 0.9722\n",
      "Epoch 7/15\n",
      "55000/55000 [==============================] - 82s 1ms/step - loss: 0.1266 - acc: 0.9827 - val_loss: 0.1831 - val_acc: 0.9728\n",
      "Epoch 8/15\n",
      "55000/55000 [==============================] - 82s 1ms/step - loss: 0.0867 - acc: 0.9872 - val_loss: 0.1658 - val_acc: 0.9746\n",
      "Epoch 9/15\n",
      "55000/55000 [==============================] - 82s 1ms/step - loss: 0.0620 - acc: 0.9905 - val_loss: 0.1563 - val_acc: 0.9752\n",
      "Epoch 10/15\n",
      "55000/55000 [==============================] - 84s 2ms/step - loss: 0.0466 - acc: 0.9921 - val_loss: 0.1411 - val_acc: 0.9782\n",
      "Epoch 11/15\n",
      "55000/55000 [==============================] - 87s 2ms/step - loss: 0.0354 - acc: 0.9945 - val_loss: 0.1420 - val_acc: 0.9760\n",
      "Epoch 12/15\n",
      "55000/55000 [==============================] - 84s 2ms/step - loss: 0.0289 - acc: 0.9956 - val_loss: 0.1431 - val_acc: 0.9774\n",
      "Epoch 13/15\n",
      "55000/55000 [==============================] - 83s 2ms/step - loss: 0.0239 - acc: 0.9973 - val_loss: 0.1371 - val_acc: 0.9768\n",
      "Epoch 14/15\n",
      "55000/55000 [==============================] - 83s 2ms/step - loss: 0.0226 - acc: 0.9971 - val_loss: 0.1291 - val_acc: 0.9794\n",
      "Epoch 15/15\n",
      "55000/55000 [==============================] - 83s 2ms/step - loss: 0.0251 - acc: 0.9962 - val_loss: 0.1462 - val_acc: 0.9776\n"
     ]
    }
   ],
   "source": [
    "history = model.fit(X_train, y_train, epochs = epochs, batch_size=batch_size, validation_data=(X_val, y_val))"
   ]
  },
  {
   "cell_type": "code",
   "execution_count": 41,
   "metadata": {
    "colab": {
     "base_uri": "https://localhost:8080/",
     "height": 68
    },
    "colab_type": "code",
    "id": "Q14ObrEqG5Ns",
    "outputId": "f42ea24d-c6bd-4fd6-e85d-c6c968cfce90"
   },
   "outputs": [
    {
     "name": "stdout",
     "output_type": "stream",
     "text": [
      "10000/10000 [==============================] - 5s 501us/step\n",
      "Test loss: 0.11709352134762448\n",
      "Accuracy: 0.9807\n"
     ]
    }
   ],
   "source": [
    "loss,acc = model.evaluate(X_test, y_test)\n",
    "print('Test loss:', loss)\n",
    "print('Accuracy:', acc)"
   ]
  },
  {
   "cell_type": "code",
   "execution_count": 42,
   "metadata": {
    "colab": {
     "base_uri": "https://localhost:8080/",
     "height": 681
    },
    "colab_type": "code",
    "id": "DZVLtn0YGtBR",
    "outputId": "6b1b407f-e64e-4561-e7b2-17bf3b97116f"
   },
   "outputs": [
    {
     "data": {
      "image/png": "[encoded data removed]",
      "text/plain": [
       "<Figure size 648x360 with 1 Axes>"
      ]
     },
     "metadata": {
      "needs_background": "light"
     },
     "output_type": "display_data"
    },
    {
     "data": {
      "image/png": "[encoded data removed]",
      "text/plain": [
       "<Figure size 648x360 with 1 Axes>"
      ]
     },
     "metadata": {
      "needs_background": "light"
     },
     "output_type": "display_data"
    }
   ],
   "source": [
    "loss_plot(history)"
   ]
  },
  {
   "cell_type": "code",
   "execution_count": null,
   "metadata": {
    "colab": {},
    "colab_type": "code",
    "id": "zn28S5WPiMha"
   },
   "outputs": [],
   "source": []
  },
  {
   "cell_type": "markdown",
   "metadata": {
    "colab_type": "text",
    "id": "V1W8U5QeiNW_"
   },
   "source": [
    "# Dropout"
   ]
  },
  {
   "cell_type": "code",
   "execution_count": 43,
   "metadata": {
    "colab": {},
    "colab_type": "code",
    "id": "ALycknYhi7bq"
   },
   "outputs": [],
   "source": [
    "#Dropout is a regularization technique used to prevent overfitting\n",
    "from keras.layers import Dropout"
   ]
  },
  {
   "cell_type": "code",
   "execution_count": 44,
   "metadata": {
    "colab": {
     "base_uri": "https://localhost:8080/",
     "height": 374
    },
    "colab_type": "code",
    "id": "h303HDzm30Eo",
    "outputId": "9b1c81d2-e1be-4f91-a8d2-2aa14ce08fe1"
   },
   "outputs": [
    {
     "name": "stdout",
     "output_type": "stream",
     "text": [
      "WARNING:tensorflow:From /home/varunkn/anaconda3/lib/python3.7/site-packages/keras/backend/tensorflow_backend.py:3445: calling dropout (from tensorflow.python.ops.nn_ops) with keep_prob is deprecated and will be removed in a future version.\n",
      "Instructions for updating:\n",
      "Please use `rate` instead of `keep_prob`. Rate should be set to `rate = 1 - keep_prob`.\n",
      "_________________________________________________________________\n",
      "Layer (type)                 Output Shape              Param #   \n",
      "=================================================================\n",
      "conv2d_3 (Conv2D)            (None, 26, 26, 32)        320       \n",
      "_________________________________________________________________\n",
      "max_pooling2d_2 (MaxPooling2 (None, 13, 13, 32)        0         \n",
      "_________________________________________________________________\n",
      "dropout_1 (Dropout)          (None, 13, 13, 32)        0         \n",
      "_________________________________________________________________\n",
      "flatten_3 (Flatten)          (None, 5408)              0         \n",
      "_________________________________________________________________\n",
      "dense_8 (Dense)              (None, 128)               692352    \n",
      "_________________________________________________________________\n",
      "dropout_2 (Dropout)          (None, 128)               0         \n",
      "_________________________________________________________________\n",
      "dense_9 (Dense)              (None, 10)                1290      \n",
      "=================================================================\n",
      "Total params: 693,962\n",
      "Trainable params: 693,962\n",
      "Non-trainable params: 0\n",
      "_________________________________________________________________\n"
     ]
    }
   ],
   "source": [
    "model = Sequential()\n",
    "model.add(Conv2D(32, kernel_size=(3,3), input_shape=input_shape, activation = 'relu'))\n",
    "model.add(MaxPool2D(2,2))\n",
    "model.add(Dropout(0.2))\n",
    "model.add(Flatten())\n",
    "model.add(Dense(128, activation = 'relu'))\n",
    "model.add(Dropout(0.2))\n",
    "model.add(Dense(10, activation = 'softmax'))\n",
    "\n",
    "model.compile(loss = 'sparse_categorical_crossentropy', optimizer= optimizer, metrics = ['accuracy'])\n",
    "\n",
    "model.summary()"
   ]
  },
  {
   "cell_type": "code",
   "execution_count": 45,
   "metadata": {
    "colab": {
     "base_uri": "https://localhost:8080/",
     "height": 714
    },
    "colab_type": "code",
    "id": "oYDUZQ68Uj3d",
    "outputId": "f9df0463-2f1e-4872-9fb1-982221415863"
   },
   "outputs": [
    {
     "name": "stdout",
     "output_type": "stream",
     "text": [
      "Train on 55000 samples, validate on 5000 samples\n",
      "Epoch 1/15\n",
      "55000/55000 [==============================] - 91s 2ms/step - loss: 6.7158 - acc: 0.5709 - val_loss: 3.7878 - val_acc: 0.7506\n",
      "Epoch 2/15\n",
      "55000/55000 [==============================] - 91s 2ms/step - loss: 1.3513 - acc: 0.8529 - val_loss: 0.2676 - val_acc: 0.9402\n",
      "Epoch 3/15\n",
      "55000/55000 [==============================] - 91s 2ms/step - loss: 0.2927 - acc: 0.9278 - val_loss: 0.1578 - val_acc: 0.9594\n",
      "Epoch 4/15\n",
      "55000/55000 [==============================] - 91s 2ms/step - loss: 0.1970 - acc: 0.9466 - val_loss: 0.1284 - val_acc: 0.9662\n",
      "Epoch 5/15\n",
      "55000/55000 [==============================] - 91s 2ms/step - loss: 0.1530 - acc: 0.9576 - val_loss: 0.1126 - val_acc: 0.9726\n",
      "Epoch 6/15\n",
      "55000/55000 [==============================] - 93s 2ms/step - loss: 0.1232 - acc: 0.9649 - val_loss: 0.1029 - val_acc: 0.9748\n",
      "Epoch 7/15\n",
      "55000/55000 [==============================] - 92s 2ms/step - loss: 0.1037 - acc: 0.9693 - val_loss: 0.0926 - val_acc: 0.9752\n",
      "Epoch 8/15\n",
      "55000/55000 [==============================] - 95s 2ms/step - loss: 0.0894 - acc: 0.9737 - val_loss: 0.0840 - val_acc: 0.9790\n",
      "Epoch 9/15\n",
      "55000/55000 [==============================] - 90s 2ms/step - loss: 0.0737 - acc: 0.9775 - val_loss: 0.0832 - val_acc: 0.9794\n",
      "Epoch 10/15\n",
      "55000/55000 [==============================] - 91s 2ms/step - loss: 0.0671 - acc: 0.9792 - val_loss: 0.0756 - val_acc: 0.9814\n",
      "Epoch 11/15\n",
      "55000/55000 [==============================] - 91s 2ms/step - loss: 0.0601 - acc: 0.9816 - val_loss: 0.0738 - val_acc: 0.9826\n",
      "Epoch 12/15\n",
      "55000/55000 [==============================] - 91s 2ms/step - loss: 0.0538 - acc: 0.9833 - val_loss: 0.0734 - val_acc: 0.9830\n",
      "Epoch 13/15\n",
      "55000/55000 [==============================] - 91s 2ms/step - loss: 0.0488 - acc: 0.9846 - val_loss: 0.0726 - val_acc: 0.9828\n",
      "Epoch 14/15\n",
      "55000/55000 [==============================] - 91s 2ms/step - loss: 0.0402 - acc: 0.9870 - val_loss: 0.0734 - val_acc: 0.9838\n",
      "Epoch 15/15\n",
      "55000/55000 [==============================] - 92s 2ms/step - loss: 0.0411 - acc: 0.9866 - val_loss: 0.0690 - val_acc: 0.9844\n"
     ]
    }
   ],
   "source": [
    "history = model.fit(X_train, y_train, epochs = epochs, batch_size=batch_size, validation_data=(X_val, y_val))"
   ]
  },
  {
   "cell_type": "code",
   "execution_count": 46,
   "metadata": {
    "colab": {
     "base_uri": "https://localhost:8080/",
     "height": 68
    },
    "colab_type": "code",
    "id": "-BYo_wsUSOX-",
    "outputId": "b127a0bb-e157-46b4-d66d-e61a76567e30"
   },
   "outputs": [
    {
     "name": "stdout",
     "output_type": "stream",
     "text": [
      "10000/10000 [==============================] - 5s 529us/step\n",
      "Test loss: 0.0692395639334125\n",
      "Accuracy: 0.9822\n"
     ]
    }
   ],
   "source": [
    "loss,acc = model.evaluate(X_test, y_test)\n",
    "print('Test loss:', loss)\n",
    "print('Accuracy:', acc)"
   ]
  },
  {
   "cell_type": "code",
   "execution_count": 47,
   "metadata": {
    "colab": {
     "base_uri": "https://localhost:8080/",
     "height": 681
    },
    "colab_type": "code",
    "id": "CYxZaUs230Bt",
    "outputId": "9bd2c23b-06b9-4cfd-fab8-e401861871d6"
   },
   "outputs": [
    {
     "data": {
      "image/png": "[encoded data removed]",
      "text/plain": [
       "<Figure size 648x360 with 1 Axes>"
      ]
     },
     "metadata": {
      "needs_background": "light"
     },
     "output_type": "display_data"
    },
    {
     "data": {
      "image/png": "[encoded data removed]",
      "text/plain": [
       "<Figure size 648x360 with 1 Axes>"
      ]
     },
     "metadata": {
      "needs_background": "light"
     },
     "output_type": "display_data"
    }
   ],
   "source": [
    "loss_plot(history)"
   ]
  },
  {
   "cell_type": "code",
   "execution_count": null,
   "metadata": {
    "colab": {},
    "colab_type": "code",
    "id": "jKc8GOWr3z-F"
   },
   "outputs": [],
   "source": []
  },
  {
   "cell_type": "code",
   "execution_count": null,
   "metadata": {
    "colab": {},
    "colab_type": "code",
    "id": "whGwMCQQ3fi2"
   },
   "outputs": [],
   "source": []
  },
  {
   "cell_type": "markdown",
   "metadata": {
    "colab_type": "text",
    "id": "CV2NYFUQiSgc"
   },
   "source": [
    "# Deeper Convolution"
   ]
  },
  {
   "cell_type": "markdown",
   "metadata": {},
   "source": [
    "In the above models  there was a slight amount of overfitting on the train data.\n",
    "Let's build a deeper model to see if we can create a classifier that is more accurate than the\n",
    "other models we have trained so far, and see if we can get it to reach an even better minima. We will build a deeper model by adding two more convolution layers to our best model so\n",
    "far:"
   ]
  },
  {
   "cell_type": "code",
   "execution_count": 48,
   "metadata": {
    "colab": {
     "base_uri": "https://localhost:8080/",
     "height": 578
    },
    "colab_type": "code",
    "id": "1M2tzc4VGs-Q",
    "outputId": "ae2b0efd-1eb0-4cdc-ddc9-98300f127652"
   },
   "outputs": [
    {
     "name": "stdout",
     "output_type": "stream",
     "text": [
      "_________________________________________________________________\n",
      "Layer (type)                 Output Shape              Param #   \n",
      "=================================================================\n",
      "conv2d_4 (Conv2D)            (None, 26, 26, 32)        320       \n",
      "_________________________________________________________________\n",
      "max_pooling2d_3 (MaxPooling2 (None, 13, 13, 32)        0         \n",
      "_________________________________________________________________\n",
      "dropout_3 (Dropout)          (None, 13, 13, 32)        0         \n",
      "_________________________________________________________________\n",
      "conv2d_5 (Conv2D)            (None, 11, 11, 64)        18496     \n",
      "_________________________________________________________________\n",
      "max_pooling2d_4 (MaxPooling2 (None, 5, 5, 64)          0         \n",
      "_________________________________________________________________\n",
      "dropout_4 (Dropout)          (None, 5, 5, 64)          0         \n",
      "_________________________________________________________________\n",
      "conv2d_6 (Conv2D)            (None, 3, 3, 128)         73856     \n",
      "_________________________________________________________________\n",
      "max_pooling2d_5 (MaxPooling2 (None, 1, 1, 128)         0         \n",
      "_________________________________________________________________\n",
      "dropout_5 (Dropout)          (None, 1, 1, 128)         0         \n",
      "_________________________________________________________________\n",
      "flatten_4 (Flatten)          (None, 128)               0         \n",
      "_________________________________________________________________\n",
      "dense_10 (Dense)             (None, 128)               16512     \n",
      "_________________________________________________________________\n",
      "dropout_6 (Dropout)          (None, 128)               0         \n",
      "_________________________________________________________________\n",
      "dense_11 (Dense)             (None, 10)                1290      \n",
      "=================================================================\n",
      "Total params: 110,474\n",
      "Trainable params: 110,474\n",
      "Non-trainable params: 0\n",
      "_________________________________________________________________\n"
     ]
    }
   ],
   "source": [
    "model = Sequential()\n",
    "model.add(Conv2D(32, kernel_size=(3,3), input_shape=input_shape, activation = 'relu'))\n",
    "model.add(MaxPool2D(2,2))\n",
    "model.add(Dropout(0.2))\n",
    "model.add(Conv2D(64, kernel_size=(3,3), activation = 'relu'))\n",
    "model.add(MaxPool2D(2,2))\n",
    "model.add(Dropout(0.2))\n",
    "model.add(Conv2D(128, kernel_size=(3,3), activation = 'relu'))\n",
    "model.add(MaxPool2D(2,2))\n",
    "model.add(Dropout(0.2))\n",
    "model.add(Flatten())\n",
    "model.add(Dense(128, activation = 'relu'))\n",
    "model.add(Dropout(0.2))\n",
    "model.add(Dense(10, activation = 'softmax'))\n",
    "\n",
    "model.compile(loss = 'sparse_categorical_crossentropy', optimizer= optimizer, metrics = ['accuracy'])\n",
    "\n",
    "model.summary()"
   ]
  },
  {
   "cell_type": "code",
   "execution_count": 49,
   "metadata": {
    "colab": {
     "base_uri": "https://localhost:8080/",
     "height": 714
    },
    "colab_type": "code",
    "id": "8VfyFEnuUzWh",
    "outputId": "47d855d9-63b2-43ce-e29f-87a72881f750"
   },
   "outputs": [
    {
     "name": "stdout",
     "output_type": "stream",
     "text": [
      "Train on 55000 samples, validate on 5000 samples\n",
      "Epoch 1/15\n",
      "55000/55000 [==============================] - 170s 3ms/step - loss: 2.6510 - acc: 0.5615 - val_loss: 0.4114 - val_acc: 0.8982\n",
      "Epoch 2/15\n",
      "55000/55000 [==============================] - 168s 3ms/step - loss: 0.6456 - acc: 0.7988 - val_loss: 0.2553 - val_acc: 0.9338\n",
      "Epoch 3/15\n",
      "55000/55000 [==============================] - 166s 3ms/step - loss: 0.4513 - acc: 0.8623 - val_loss: 0.1958 - val_acc: 0.9476\n",
      "Epoch 4/15\n",
      "55000/55000 [==============================] - 164s 3ms/step - loss: 0.3587 - acc: 0.8893 - val_loss: 0.1573 - val_acc: 0.9540\n",
      "Epoch 5/15\n",
      "55000/55000 [==============================] - 162s 3ms/step - loss: 0.2933 - acc: 0.9101 - val_loss: 0.1331 - val_acc: 0.9594\n",
      "Epoch 6/15\n",
      "55000/55000 [==============================] - 163s 3ms/step - loss: 0.2583 - acc: 0.9216 - val_loss: 0.1161 - val_acc: 0.9638\n",
      "Epoch 7/15\n",
      "55000/55000 [==============================] - 166s 3ms/step - loss: 0.2208 - acc: 0.9333 - val_loss: 0.1038 - val_acc: 0.9680\n",
      "Epoch 8/15\n",
      "55000/55000 [==============================] - 166s 3ms/step - loss: 0.2036 - acc: 0.9375 - val_loss: 0.0954 - val_acc: 0.9694\n",
      "Epoch 9/15\n",
      "55000/55000 [==============================] - 166s 3ms/step - loss: 0.1879 - acc: 0.9427 - val_loss: 0.0884 - val_acc: 0.9722\n",
      "Epoch 10/15\n",
      "55000/55000 [==============================] - 167s 3ms/step - loss: 0.1729 - acc: 0.9480 - val_loss: 0.0799 - val_acc: 0.9752\n",
      "Epoch 11/15\n",
      "55000/55000 [==============================] - 164s 3ms/step - loss: 0.1576 - acc: 0.9529 - val_loss: 0.0774 - val_acc: 0.9776\n",
      "Epoch 12/15\n",
      "55000/55000 [==============================] - 163s 3ms/step - loss: 0.1438 - acc: 0.9568 - val_loss: 0.0725 - val_acc: 0.9774\n",
      "Epoch 13/15\n",
      "55000/55000 [==============================] - 163s 3ms/step - loss: 0.1365 - acc: 0.9589 - val_loss: 0.0667 - val_acc: 0.9794\n",
      "Epoch 14/15\n",
      "55000/55000 [==============================] - 162s 3ms/step - loss: 0.1272 - acc: 0.9621 - val_loss: 0.0652 - val_acc: 0.9814\n",
      "Epoch 15/15\n",
      "55000/55000 [==============================] - 164s 3ms/step - loss: 0.1202 - acc: 0.9642 - val_loss: 0.0639 - val_acc: 0.9816\n"
     ]
    }
   ],
   "source": [
    "history = model.fit(X_train, y_train, epochs = 15, batch_size=128, validation_data=(X_val, y_val))"
   ]
  },
  {
   "cell_type": "code",
   "execution_count": 50,
   "metadata": {
    "colab": {
     "base_uri": "https://localhost:8080/",
     "height": 68
    },
    "colab_type": "code",
    "id": "0GsdP62EUwSL",
    "outputId": "bb5cb3df-92d1-4673-f77e-c153a0f251e3"
   },
   "outputs": [
    {
     "name": "stdout",
     "output_type": "stream",
     "text": [
      "10000/10000 [==============================] - 8s 791us/step\n",
      "Test loss: 0.056585624753549925\n",
      "Accuracy: 0.9837\n"
     ]
    }
   ],
   "source": [
    "loss,acc = model.evaluate(X_test, y_test)\n",
    "print('Test loss:', loss)\n",
    "print('Accuracy:', acc)"
   ]
  },
  {
   "cell_type": "code",
   "execution_count": 51,
   "metadata": {
    "colab": {
     "base_uri": "https://localhost:8080/",
     "height": 681
    },
    "colab_type": "code",
    "id": "UeTHHCTHU9n5",
    "outputId": "f5b293cf-5f15-417d-c7a9-399d09adfc29"
   },
   "outputs": [
    {
     "data": {
      "image/png": "[encoded data removed]",
      "text/plain": [
       "<Figure size 648x360 with 1 Axes>"
      ]
     },
     "metadata": {
      "needs_background": "light"
     },
     "output_type": "display_data"
    },
    {
     "data": {
      "image/png": "[encoded data removed]",
      "text/plain": [
       "<Figure size 648x360 with 1 Axes>"
      ]
     },
     "metadata": {
      "needs_background": "light"
     },
     "output_type": "display_data"
    }
   ],
   "source": [
    "loss_plot(history)"
   ]
  },
  {
   "cell_type": "code",
   "execution_count": null,
   "metadata": {
    "colab": {},
    "colab_type": "code",
    "id": "zWLqJAr5U9lK"
   },
   "outputs": [],
   "source": []
  },
  {
   "cell_type": "code",
   "execution_count": 52,
   "metadata": {
    "colab": {
     "base_uri": "https://localhost:8080/",
     "height": 578
    },
    "colab_type": "code",
    "id": "CjfT18YtR9Wa",
    "outputId": "b7fdbe5a-e3c9-4b8d-a549-30201cf406e2"
   },
   "outputs": [
    {
     "name": "stdout",
     "output_type": "stream",
     "text": [
      "_________________________________________________________________\n",
      "Layer (type)                 Output Shape              Param #   \n",
      "=================================================================\n",
      "conv2d_7 (Conv2D)            (None, 26, 26, 32)        320       \n",
      "_________________________________________________________________\n",
      "max_pooling2d_6 (MaxPooling2 (None, 13, 13, 32)        0         \n",
      "_________________________________________________________________\n",
      "dropout_7 (Dropout)          (None, 13, 13, 32)        0         \n",
      "_________________________________________________________________\n",
      "conv2d_8 (Conv2D)            (None, 11, 11, 64)        18496     \n",
      "_________________________________________________________________\n",
      "max_pooling2d_7 (MaxPooling2 (None, 5, 5, 64)          0         \n",
      "_________________________________________________________________\n",
      "dropout_8 (Dropout)          (None, 5, 5, 64)          0         \n",
      "_________________________________________________________________\n",
      "conv2d_9 (Conv2D)            (None, 3, 3, 128)         73856     \n",
      "_________________________________________________________________\n",
      "max_pooling2d_8 (MaxPooling2 (None, 1, 1, 128)         0         \n",
      "_________________________________________________________________\n",
      "dropout_9 (Dropout)          (None, 1, 1, 128)         0         \n",
      "_________________________________________________________________\n",
      "flatten_5 (Flatten)          (None, 128)               0         \n",
      "_________________________________________________________________\n",
      "dense_12 (Dense)             (None, 128)               16512     \n",
      "_________________________________________________________________\n",
      "dropout_10 (Dropout)         (None, 128)               0         \n",
      "_________________________________________________________________\n",
      "dense_13 (Dense)             (None, 10)                1290      \n",
      "=================================================================\n",
      "Total params: 110,474\n",
      "Trainable params: 110,474\n",
      "Non-trainable params: 0\n",
      "_________________________________________________________________\n"
     ]
    }
   ],
   "source": [
    "model = Sequential()\n",
    "model.add(Conv2D(32, kernel_size=(3,3), input_shape=input_shape, activation = 'relu'))\n",
    "model.add(MaxPool2D(2,2))\n",
    "model.add(Dropout(0.2))\n",
    "model.add(Conv2D(64, kernel_size=(3,3), activation = 'relu'))\n",
    "model.add(MaxPool2D(2,2))\n",
    "model.add(Dropout(0.2))\n",
    "model.add(Conv2D(128, kernel_size=(3,3), activation = 'relu'))\n",
    "model.add(MaxPool2D(2,2))\n",
    "model.add(Dropout(0.2))\n",
    "model.add(Flatten())\n",
    "model.add(Dense(128, activation = 'relu'))\n",
    "model.add(Dropout(0.2))\n",
    "model.add(Dense(10, activation = 'softmax'))\n",
    "\n",
    "model.compile(loss = 'sparse_categorical_crossentropy', optimizer= optimizer, metrics = ['accuracy'])\n",
    "\n",
    "model.summary()"
   ]
  },
  {
   "cell_type": "code",
   "execution_count": 53,
   "metadata": {
    "colab": {
     "base_uri": "https://localhost:8080/",
     "height": 1394
    },
    "colab_type": "code",
    "id": "X_53f3a4U5P-",
    "outputId": "17290018-b159-4fe7-df7c-fc0fb38c197c"
   },
   "outputs": [
    {
     "name": "stdout",
     "output_type": "stream",
     "text": [
      "Train on 55000 samples, validate on 5000 samples\n",
      "Epoch 1/40\n",
      "55000/55000 [==============================] - 170s 3ms/step - loss: 3.6719 - acc: 0.5421 - val_loss: 0.4403 - val_acc: 0.8772\n",
      "Epoch 2/40\n",
      "55000/55000 [==============================] - 168s 3ms/step - loss: 0.7007 - acc: 0.7845 - val_loss: 0.2779 - val_acc: 0.9192\n",
      "Epoch 3/40\n",
      "55000/55000 [==============================] - 170s 3ms/step - loss: 0.4918 - acc: 0.8506 - val_loss: 0.2055 - val_acc: 0.9410\n",
      "Epoch 4/40\n",
      "55000/55000 [==============================] - 168s 3ms/step - loss: 0.3961 - acc: 0.8796 - val_loss: 0.1674 - val_acc: 0.9478\n",
      "Epoch 5/40\n",
      "55000/55000 [==============================] - 169s 3ms/step - loss: 0.3308 - acc: 0.9000 - val_loss: 0.1487 - val_acc: 0.9564\n",
      "Epoch 6/40\n",
      "55000/55000 [==============================] - 170s 3ms/step - loss: 0.2913 - acc: 0.9136 - val_loss: 0.1293 - val_acc: 0.9610\n",
      "Epoch 7/40\n",
      "55000/55000 [==============================] - 168s 3ms/step - loss: 0.2483 - acc: 0.9252 - val_loss: 0.1149 - val_acc: 0.9648\n",
      "Epoch 8/40\n",
      "55000/55000 [==============================] - 169s 3ms/step - loss: 0.2289 - acc: 0.9308 - val_loss: 0.1048 - val_acc: 0.9674\n",
      "Epoch 9/40\n",
      "55000/55000 [==============================] - 169s 3ms/step - loss: 0.1998 - acc: 0.9401 - val_loss: 0.0963 - val_acc: 0.9684\n",
      "Epoch 10/40\n",
      "55000/55000 [==============================] - 170s 3ms/step - loss: 0.1882 - acc: 0.9435 - val_loss: 0.0882 - val_acc: 0.9722\n",
      "Epoch 11/40\n",
      "55000/55000 [==============================] - 170s 3ms/step - loss: 0.1728 - acc: 0.9486 - val_loss: 0.0826 - val_acc: 0.9746\n",
      "Epoch 12/40\n",
      "55000/55000 [==============================] - 169s 3ms/step - loss: 0.1566 - acc: 0.9521 - val_loss: 0.0774 - val_acc: 0.9766\n",
      "Epoch 13/40\n",
      "55000/55000 [==============================] - 170s 3ms/step - loss: 0.1488 - acc: 0.9549 - val_loss: 0.0720 - val_acc: 0.9780\n",
      "Epoch 14/40\n",
      "55000/55000 [==============================] - 171s 3ms/step - loss: 0.1390 - acc: 0.9584 - val_loss: 0.0702 - val_acc: 0.9794\n",
      "Epoch 15/40\n",
      "55000/55000 [==============================] - 168s 3ms/step - loss: 0.1281 - acc: 0.9613 - val_loss: 0.0652 - val_acc: 0.9800\n",
      "Epoch 16/40\n",
      "55000/55000 [==============================] - 170s 3ms/step - loss: 0.1220 - acc: 0.9636 - val_loss: 0.0623 - val_acc: 0.9820\n",
      "Epoch 17/40\n",
      "55000/55000 [==============================] - 177s 3ms/step - loss: 0.1137 - acc: 0.9653 - val_loss: 0.0616 - val_acc: 0.9810\n",
      "Epoch 18/40\n",
      "55000/55000 [==============================] - 171s 3ms/step - loss: 0.1095 - acc: 0.9669 - val_loss: 0.0596 - val_acc: 0.9822\n",
      "Epoch 19/40\n",
      "55000/55000 [==============================] - 170s 3ms/step - loss: 0.1065 - acc: 0.9677 - val_loss: 0.0579 - val_acc: 0.9830\n",
      "Epoch 20/40\n",
      "55000/55000 [==============================] - 170s 3ms/step - loss: 0.0977 - acc: 0.9699 - val_loss: 0.0567 - val_acc: 0.9826\n",
      "Epoch 21/40\n",
      "55000/55000 [==============================] - 171s 3ms/step - loss: 0.0955 - acc: 0.9705 - val_loss: 0.0549 - val_acc: 0.9838\n",
      "Epoch 22/40\n",
      "55000/55000 [==============================] - 172s 3ms/step - loss: 0.0903 - acc: 0.9719 - val_loss: 0.0533 - val_acc: 0.9852\n",
      "Epoch 23/40\n",
      "55000/55000 [==============================] - 172s 3ms/step - loss: 0.0865 - acc: 0.9742 - val_loss: 0.0521 - val_acc: 0.9856\n",
      "Epoch 24/40\n",
      "55000/55000 [==============================] - 175s 3ms/step - loss: 0.0848 - acc: 0.9743 - val_loss: 0.0513 - val_acc: 0.9854\n",
      "Epoch 25/40\n",
      "55000/55000 [==============================] - 172s 3ms/step - loss: 0.0789 - acc: 0.9759 - val_loss: 0.0519 - val_acc: 0.9858\n",
      "Epoch 26/40\n",
      "55000/55000 [==============================] - 172s 3ms/step - loss: 0.0777 - acc: 0.9763 - val_loss: 0.0485 - val_acc: 0.9872\n",
      "Epoch 27/40\n",
      "55000/55000 [==============================] - 172s 3ms/step - loss: 0.0726 - acc: 0.9772 - val_loss: 0.0486 - val_acc: 0.9866\n",
      "Epoch 28/40\n",
      "55000/55000 [==============================] - 172s 3ms/step - loss: 0.0734 - acc: 0.9779 - val_loss: 0.0481 - val_acc: 0.9852\n",
      "Epoch 29/40\n",
      "55000/55000 [==============================] - 172s 3ms/step - loss: 0.0672 - acc: 0.9786 - val_loss: 0.0472 - val_acc: 0.9872\n",
      "Epoch 30/40\n",
      "55000/55000 [==============================] - 171s 3ms/step - loss: 0.0688 - acc: 0.9790 - val_loss: 0.0486 - val_acc: 0.9874\n",
      "Epoch 31/40\n",
      "55000/55000 [==============================] - 171s 3ms/step - loss: 0.0628 - acc: 0.9807 - val_loss: 0.0481 - val_acc: 0.9878\n",
      "Epoch 32/40\n",
      "55000/55000 [==============================] - 171s 3ms/step - loss: 0.0653 - acc: 0.9799 - val_loss: 0.0480 - val_acc: 0.9862\n",
      "Epoch 33/40\n",
      "55000/55000 [==============================] - 170s 3ms/step - loss: 0.0621 - acc: 0.9808 - val_loss: 0.0460 - val_acc: 0.9878\n",
      "Epoch 34/40\n",
      "55000/55000 [==============================] - 170s 3ms/step - loss: 0.0583 - acc: 0.9820 - val_loss: 0.0458 - val_acc: 0.9874\n",
      "Epoch 35/40\n",
      "55000/55000 [==============================] - 172s 3ms/step - loss: 0.0580 - acc: 0.9820 - val_loss: 0.0482 - val_acc: 0.9874\n",
      "Epoch 36/40\n",
      "55000/55000 [==============================] - 170s 3ms/step - loss: 0.0574 - acc: 0.9827 - val_loss: 0.0440 - val_acc: 0.9888\n",
      "Epoch 37/40\n",
      "55000/55000 [==============================] - 172s 3ms/step - loss: 0.0548 - acc: 0.9831 - val_loss: 0.0463 - val_acc: 0.9884\n",
      "Epoch 38/40\n",
      "55000/55000 [==============================] - 172s 3ms/step - loss: 0.0542 - acc: 0.9831 - val_loss: 0.0431 - val_acc: 0.9886\n",
      "Epoch 39/40\n",
      "55000/55000 [==============================] - 171s 3ms/step - loss: 0.0517 - acc: 0.9840 - val_loss: 0.0458 - val_acc: 0.9874\n",
      "Epoch 40/40\n",
      "55000/55000 [==============================] - 170s 3ms/step - loss: 0.0515 - acc: 0.9836 - val_loss: 0.0439 - val_acc: 0.9888\n"
     ]
    }
   ],
   "source": [
    "history = model.fit(X_train, y_train, epochs = 40, batch_size=128, validation_data=(X_val, y_val))"
   ]
  },
  {
   "cell_type": "code",
   "execution_count": 54,
   "metadata": {
    "colab": {
     "base_uri": "https://localhost:8080/",
     "height": 68
    },
    "colab_type": "code",
    "id": "gpm0y4mRYO30",
    "outputId": "f761c56d-524f-4737-c0cc-0438028ad96e"
   },
   "outputs": [
    {
     "name": "stdout",
     "output_type": "stream",
     "text": [
      "10000/10000 [==============================] - 8s 830us/step\n",
      "Test loss: 0.037315198969555784\n",
      "Accuracy: 0.9894\n"
     ]
    }
   ],
   "source": [
    "loss,acc = model.evaluate(X_test, y_test)\n",
    "print('Test loss:', loss)\n",
    "print('Accuracy:', acc)"
   ]
  },
  {
   "cell_type": "code",
   "execution_count": 55,
   "metadata": {
    "colab": {
     "base_uri": "https://localhost:8080/",
     "height": 681
    },
    "colab_type": "code",
    "id": "kS7yd8eOGs70",
    "outputId": "dd244b97-0340-4eec-94bc-35e8739ec1a9"
   },
   "outputs": [
    {
     "data": {
      "image/png": "[encoded data removed]",
      "text/plain": [
       "<Figure size 648x360 with 1 Axes>"
      ]
     },
     "metadata": {
      "needs_background": "light"
     },
     "output_type": "display_data"
    },
    {
     "data": {
      "image/png": "[encoded data removed]",
      "text/plain": [
       "<Figure size 648x360 with 1 Axes>"
      ]
     },
     "metadata": {
      "needs_background": "light"
     },
     "output_type": "display_data"
    }
   ],
   "source": [
    "loss_plot(history)"
   ]
  },
  {
   "cell_type": "markdown",
   "metadata": {
    "colab": {},
    "colab_type": "code",
    "id": "kv2mVnB3CLEP"
   },
   "source": [
    "##Data Augmentation\n",
    "\n",
    "Keras provides a preprocessing utility called that can be used to ImageDataGenerator augment image data with simple configuration.\n",
    "\n",
    "ImageDataGenerator can - \n",
    "zoom_range: Randomly zoom in on images to a given zoom level\n",
    "horizontal_flip: Randomly flip images horizontally\n",
    "vertical_flip: Randomly flip images vertically\n",
    "rescale: Multiply the data with the factor provided"
   ]
  },
  {
   "cell_type": "code",
   "execution_count": 56,
   "metadata": {
    "colab": {},
    "colab_type": "code",
    "id": "QeYx53e4LbJJ"
   },
   "outputs": [],
   "source": [
    "from keras.preprocessing.image import ImageDataGenerator"
   ]
  },
  {
   "cell_type": "code",
   "execution_count": 57,
   "metadata": {
    "colab": {},
    "colab_type": "code",
    "id": "2mTR1QtbgQ8q"
   },
   "outputs": [],
   "source": [
    "train_datagen = ImageDataGenerator(horizontal_flip=True)"
   ]
  },
  {
   "cell_type": "code",
   "execution_count": 58,
   "metadata": {
    "colab": {},
    "colab_type": "code",
    "id": "EUT_yiqTgWS7"
   },
   "outputs": [],
   "source": [
    "# fit the augmentor\n",
    "train_datagen.fit(X_train)"
   ]
  },
  {
   "cell_type": "code",
   "execution_count": 59,
   "metadata": {
    "colab": {
     "base_uri": "https://localhost:8080/",
     "height": 406
    },
    "colab_type": "code",
    "id": "l8Ea9IRWNJiz",
    "outputId": "39e58972-b4ac-4275-889a-54a0a2c0a956"
   },
   "outputs": [
    {
     "data": {
      "image/png": "[encoded data removed]",
      "text/plain": [
       "<Figure size 432x288 with 6 Axes>"
      ]
     },
     "metadata": {
      "needs_background": "light"
     },
     "output_type": "display_data"
    }
   ],
   "source": [
    "# transform the data\n",
    "for img, label in train_datagen.flow(X_train, y_train, batch_size=6):\n",
    "    for i in range(0, 6):\n",
    "        plt.subplot(2,3,i+1)\n",
    "        plt.title('Label {}'.format(label[i]))\n",
    "        plt.imshow(img[i].reshape(28, 28), cmap='gray')\n",
    "    break\n",
    "plt.tight_layout()\n",
    "plt.show()"
   ]
  },
  {
   "cell_type": "code",
   "execution_count": 60,
   "metadata": {
    "colab": {
     "base_uri": "https://localhost:8080/",
     "height": 406
    },
    "colab_type": "code",
    "id": "EpEEcNr6T0cl",
    "outputId": "7de40e33-9a6b-4755-b977-7122f4fdf27a"
   },
   "outputs": [
    {
     "data": {
      "image/png": "[encoded data removed]",
      "text/plain": [
       "<Figure size 432x288 with 6 Axes>"
      ]
     },
     "metadata": {
      "needs_background": "light"
     },
     "output_type": "display_data"
    }
   ],
   "source": [
    "train_datagen = ImageDataGenerator(zoom_range=0.3)\n",
    "#fit\n",
    "train_datagen.fit(X_train)\n",
    "\n",
    "#transform\n",
    "for img, label in train_datagen.flow(X_train, y_train, batch_size=6):\n",
    "    for i in range(0, 6):\n",
    "        plt.subplot(2,3,i+1)\n",
    "        plt.title('Label {}'.format(label[i]))\n",
    "        plt.imshow(img[i].reshape(28, 28), cmap='gray')\n",
    "    break\n",
    "plt.tight_layout()\n",
    "plt.show()"
   ]
  },
  {
   "cell_type": "code",
   "execution_count": 61,
   "metadata": {
    "colab": {},
    "colab_type": "code",
    "id": "rlSpRCDkXH-m"
   },
   "outputs": [],
   "source": [
    "train_datagen = ImageDataGenerator(\n",
    "        rescale=1./255,\n",
    "        zoom_range=0.2,\n",
    "        horizontal_flip=True)"
   ]
  },
  {
   "cell_type": "code",
   "execution_count": 62,
   "metadata": {
    "colab": {},
    "colab_type": "code",
    "id": "bfDFaQhuXIEy"
   },
   "outputs": [],
   "source": [
    "train_datagen.fit(X_train)"
   ]
  },
  {
   "cell_type": "code",
   "execution_count": 63,
   "metadata": {
    "colab": {},
    "colab_type": "code",
    "id": "pVdT9N_jXICn"
   },
   "outputs": [],
   "source": [
    "model = Sequential()\n",
    "model.add(Conv2D(32, kernel_size=(3,3), input_shape=input_shape, activation = 'relu'))\n",
    "model.add(MaxPool2D(2,2))\n",
    "model.add(Dropout(0.2))\n",
    "model.add(Conv2D(64, kernel_size=(3,3), activation = 'relu'))\n",
    "model.add(MaxPool2D(2,2))\n",
    "model.add(Dropout(0.2))\n",
    "model.add(Conv2D(128, kernel_size=(3,3), activation = 'relu'))\n",
    "model.add(MaxPool2D(2,2))\n",
    "model.add(Dropout(0.2))\n",
    "model.add(Flatten())\n",
    "model.add(Dense(128, activation = 'relu'))\n",
    "model.add(Dropout(0.2))\n",
    "model.add(Dense(10, activation = 'softmax'))\n",
    "\n",
    "model.compile(loss = 'sparse_categorical_crossentropy', optimizer= Adam(lr=0.001), metrics = ['accuracy'])"
   ]
  },
  {
   "cell_type": "code",
   "execution_count": 64,
   "metadata": {
    "colab": {
     "base_uri": "https://localhost:8080/",
     "height": 357
    },
    "colab_type": "code",
    "id": "aOsZP0cec6Gu",
    "outputId": "9b3fe1d6-cab3-43fc-ee15-893c927a5195"
   },
   "outputs": [
    {
     "ename": "ValueError",
     "evalue": "`validation_steps=None` is only valid for a generator based on the `keras.utils.Sequence` class. Please specify `validation_steps` or use the `keras.utils.Sequence` class.",
     "output_type": "error",
     "traceback": [
      "\u001b[0;31m---------------------------------------------------------------------------\u001b[0m",
      "\u001b[0;31mValueError\u001b[0m                                Traceback (most recent call last)",
      "\u001b[0;32m<ipython-input-64-37af3a342e8b>\u001b[0m in \u001b[0;36m<module>\u001b[0;34m\u001b[0m\n\u001b[1;32m      2\u001b[0m history = model.fit_generator(train_datagen.flow(X_train, y_train, batch_size=128),\n\u001b[1;32m      3\u001b[0m                     \u001b[0msteps_per_epoch\u001b[0m\u001b[0;34m=\u001b[0m\u001b[0mlen\u001b[0m\u001b[0;34m(\u001b[0m\u001b[0mX_train\u001b[0m\u001b[0;34m)\u001b[0m \u001b[0;34m/\u001b[0m \u001b[0;36m128\u001b[0m\u001b[0;34m,\u001b[0m \u001b[0mepochs\u001b[0m\u001b[0;34m=\u001b[0m\u001b[0;36m10\u001b[0m\u001b[0;34m,\u001b[0m\u001b[0;34m\u001b[0m\u001b[0;34m\u001b[0m\u001b[0m\n\u001b[0;32m----> 4\u001b[0;31m                     validation_data=(train_datagen.flow(X_val, y_val)))\n\u001b[0m",
      "\u001b[0;32m~/anaconda3/lib/python3.7/site-packages/keras/legacy/interfaces.py\u001b[0m in \u001b[0;36mwrapper\u001b[0;34m(*args, **kwargs)\u001b[0m\n\u001b[1;32m     89\u001b[0m                 warnings.warn('Update your `' + object_name + '` call to the ' +\n\u001b[1;32m     90\u001b[0m                               'Keras 2 API: ' + signature, stacklevel=2)\n\u001b[0;32m---> 91\u001b[0;31m             \u001b[0;32mreturn\u001b[0m \u001b[0mfunc\u001b[0m\u001b[0;34m(\u001b[0m\u001b[0;34m*\u001b[0m\u001b[0margs\u001b[0m\u001b[0;34m,\u001b[0m \u001b[0;34m**\u001b[0m\u001b[0mkwargs\u001b[0m\u001b[0;34m)\u001b[0m\u001b[0;34m\u001b[0m\u001b[0;34m\u001b[0m\u001b[0m\n\u001b[0m\u001b[1;32m     92\u001b[0m         \u001b[0mwrapper\u001b[0m\u001b[0;34m.\u001b[0m\u001b[0m_original_function\u001b[0m \u001b[0;34m=\u001b[0m \u001b[0mfunc\u001b[0m\u001b[0;34m\u001b[0m\u001b[0;34m\u001b[0m\u001b[0m\n\u001b[1;32m     93\u001b[0m         \u001b[0;32mreturn\u001b[0m \u001b[0mwrapper\u001b[0m\u001b[0;34m\u001b[0m\u001b[0;34m\u001b[0m\u001b[0m\n",
      "\u001b[0;32m~/anaconda3/lib/python3.7/site-packages/keras/engine/training.py\u001b[0m in \u001b[0;36mfit_generator\u001b[0;34m(self, generator, steps_per_epoch, epochs, verbose, callbacks, validation_data, validation_steps, class_weight, max_queue_size, workers, use_multiprocessing, shuffle, initial_epoch)\u001b[0m\n\u001b[1;32m   1416\u001b[0m             \u001b[0muse_multiprocessing\u001b[0m\u001b[0;34m=\u001b[0m\u001b[0muse_multiprocessing\u001b[0m\u001b[0;34m,\u001b[0m\u001b[0;34m\u001b[0m\u001b[0;34m\u001b[0m\u001b[0m\n\u001b[1;32m   1417\u001b[0m             \u001b[0mshuffle\u001b[0m\u001b[0;34m=\u001b[0m\u001b[0mshuffle\u001b[0m\u001b[0;34m,\u001b[0m\u001b[0;34m\u001b[0m\u001b[0;34m\u001b[0m\u001b[0m\n\u001b[0;32m-> 1418\u001b[0;31m             initial_epoch=initial_epoch)\n\u001b[0m\u001b[1;32m   1419\u001b[0m \u001b[0;34m\u001b[0m\u001b[0m\n\u001b[1;32m   1420\u001b[0m     \u001b[0;34m@\u001b[0m\u001b[0minterfaces\u001b[0m\u001b[0;34m.\u001b[0m\u001b[0mlegacy_generator_methods_support\u001b[0m\u001b[0;34m\u001b[0m\u001b[0;34m\u001b[0m\u001b[0m\n",
      "\u001b[0;32m~/anaconda3/lib/python3.7/site-packages/keras/engine/training_generator.py\u001b[0m in \u001b[0;36mfit_generator\u001b[0;34m(model, generator, steps_per_epoch, epochs, verbose, callbacks, validation_data, validation_steps, class_weight, max_queue_size, workers, use_multiprocessing, shuffle, initial_epoch)\u001b[0m\n\u001b[1;32m     66\u001b[0m     if (val_gen and not isinstance(validation_data, Sequence) and\n\u001b[1;32m     67\u001b[0m             not validation_steps):\n\u001b[0;32m---> 68\u001b[0;31m         raise ValueError('`validation_steps=None` is only valid for a'\n\u001b[0m\u001b[1;32m     69\u001b[0m                          \u001b[0;34m' generator based on the `keras.utils.Sequence`'\u001b[0m\u001b[0;34m\u001b[0m\u001b[0;34m\u001b[0m\u001b[0m\n\u001b[1;32m     70\u001b[0m                          \u001b[0;34m' class. Please specify `validation_steps` or use'\u001b[0m\u001b[0;34m\u001b[0m\u001b[0;34m\u001b[0m\u001b[0m\n",
      "\u001b[0;31mValueError\u001b[0m: `validation_steps=None` is only valid for a generator based on the `keras.utils.Sequence` class. Please specify `validation_steps` or use the `keras.utils.Sequence` class."
     ]
    }
   ],
   "source": [
    "# fits the model on batches with real-time data augmentation:\n",
    "history = model.fit_generator(train_datagen.flow(X_train, y_train, batch_size=128),\n",
    "                    steps_per_epoch=len(X_train) / 128, epochs=10,\n",
    "                    validation_data=(train_datagen.flow(X_val, y_val)))"
   ]
  },
  {
   "cell_type": "code",
   "execution_count": null,
   "metadata": {
    "colab": {
     "base_uri": "https://localhost:8080/",
     "height": 68
    },
    "colab_type": "code",
    "id": "phG_3o8_lmW0",
    "outputId": "429bd985-8685-4898-a767-13a7e5ff252f"
   },
   "outputs": [],
   "source": [
    "for test_img, test_lab in train_datagen.flow(X_test, y_test, batch_size = X_test.shape[0]):\n",
    "    break\n",
    "\n",
    "loss,acc = model.evaluate(test_img, test_lab)\n",
    "print('Test loss:', loss)\n",
    "print('Accuracy:', acc)"
   ]
  }
 ],
 "metadata": {
  "accelerator": "GPU",
  "colab": {
   "collapsed_sections": [],
   "name": "Chapter8.ipynb",
   "provenance": [],
   "version": "0.3.2"
  },
  "kernelspec": {
   "display_name": "Python 3",
   "language": "python",
   "name": "python3"
  },
  "language_info": {
   "codemirror_mode": {
    "name": "ipython",
    "version": 3
   },
   "file_extension": ".py",
   "mimetype": "text/x-python",
   "name": "python",
   "nbconvert_exporter": "python",
   "pygments_lexer": "ipython3",
   "version": "3.7.3"
  }
 },
 "nbformat": 4,
 "nbformat_minor": 1
}
